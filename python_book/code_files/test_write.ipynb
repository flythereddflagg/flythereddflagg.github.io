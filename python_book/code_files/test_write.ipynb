{
 "cells": [
  {
   "cell_type": "code",
   "execution_count": 9,
   "metadata": {},
   "outputs": [],
   "source": [
    "import timeit\n",
    "import numpy as np"
   ]
  },
  {
   "cell_type": "markdown",
   "metadata": {},
   "source": [
    "For two matricies $A$, $B$ with row-column dimensions $d,n$ and $n,f$ respectively, each element (noted by $r,c$ for each row and column) of the matrix product $C$ of $A$ and $B$ ($C = AB$):\n",
    "\n",
    "$$C_{r,c} = \\sum^n_i A_{r,i} \\cdot B_{i,c}$$"
   ]
  },
  {
   "cell_type": "code",
   "execution_count": 14,
   "metadata": {},
   "outputs": [],
   "source": [
    "# straight python\n",
    "a = [\n",
    "    [2,3,4],\n",
    "    [3,1,9],\n",
    "    [4,1,4]\n",
    "]\n",
    "b = [\n",
    "    [2],\n",
    "    [6],\n",
    "    [5]\n",
    "]\n",
    "\n",
    "a_array, b_array = np.array(a), np.array(b)\n",
    "\n",
    "def matmul(a, b):\n",
    "    d, f, n = len(a), len(b[0]), len(b)\n",
    "\n",
    "    c = [[0.0 for _ in range(f)] for __ in range(d)]\n",
    "\n",
    "    for row in range(d):\n",
    "        for column in range(f):\n",
    "            for i in range(n):\n",
    "                c[row][column] += a[row][i]*b[i][column]\n",
    "\n",
    "    return c\n",
    "\n",
    "\n",
    "def np_matmul(a, b):\n",
    "    return a_array @ b_array"
   ]
  },
  {
   "cell_type": "code",
   "execution_count": 39,
   "metadata": {},
   "outputs": [
    {
     "data": {
      "text/plain": [
       "(54.01758064573424, 0.12215660200035927, 0.06598604099963268)"
      ]
     },
     "execution_count": 39,
     "metadata": {},
     "output_type": "execute_result"
    }
   ],
   "source": [
    "t_matmul = timeit.timeit(lambda: matmul(a,b), number=10000)\n",
    "t_npmatmul = timeit.timeit(lambda: np_matmul(a_array, b_array), number=10000)\n",
    "pct_matmul = (t_matmul - t_npmatmul)/t_matmul\n",
    "\n",
    "(1 - pct_matmul) * 100, t_matmul, t_npmatmul"
   ]
  },
  {
   "cell_type": "code",
   "execution_count": null,
   "metadata": {},
   "outputs": [],
   "source": []
  },
  {
   "cell_type": "code",
   "execution_count": null,
   "metadata": {},
   "outputs": [],
   "source": []
  }
 ],
 "metadata": {
  "kernelspec": {
   "display_name": "Python 3",
   "language": "python",
   "name": "python3"
  },
  "language_info": {
   "codemirror_mode": {
    "name": "ipython",
    "version": 3
   },
   "file_extension": ".py",
   "mimetype": "text/x-python",
   "name": "python",
   "nbconvert_exporter": "python",
   "pygments_lexer": "ipython3",
   "version": "3.8.10"
  }
 },
 "nbformat": 4,
 "nbformat_minor": 2
}
