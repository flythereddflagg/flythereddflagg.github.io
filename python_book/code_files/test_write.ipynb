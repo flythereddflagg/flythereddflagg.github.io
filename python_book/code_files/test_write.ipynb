{
 "cells": [
  {
   "cell_type": "code",
   "execution_count": 1,
   "metadata": {},
   "outputs": [],
   "source": [
    "import pandas as pd"
   ]
  },
  {
   "cell_type": "code",
   "execution_count": 2,
   "metadata": {},
   "outputs": [
    {
     "data": {
      "text/plain": [
       "0     3.000\n",
       "1     2.000\n",
       "2     5.000\n",
       "3    36.000\n",
       "4    23.342\n",
       "5    34.000\n",
       "6    53.300\n",
       "dtype: float64"
      ]
     },
     "execution_count": 2,
     "metadata": {},
     "output_type": "execute_result"
    }
   ],
   "source": [
    "input_data = [3,2,5.0,36,23.342,34,53.3]\n",
    "the_series = pd.Series(data=input_data)\n",
    "the_series"
   ]
  },
  {
   "cell_type": "code",
   "execution_count": 3,
   "metadata": {},
   "outputs": [
    {
     "data": {
      "text/plain": [
       "1     2.000\n",
       "0     3.000\n",
       "2     5.000\n",
       "4    23.342\n",
       "5    34.000\n",
       "3    36.000\n",
       "6    53.300\n",
       "dtype: float64"
      ]
     },
     "execution_count": 3,
     "metadata": {},
     "output_type": "execute_result"
    }
   ],
   "source": [
    "the_series.sort_values()"
   ]
  },
  {
   "cell_type": "code",
   "execution_count": 4,
   "metadata": {},
   "outputs": [
    {
     "data": {
      "text/plain": [
       "n cheeses             3.000\n",
       "spam                  2.000\n",
       "32                    5.000\n",
       "the number 36        36.000\n",
       "ohh a real float!    23.342\n",
       "22.2                 34.000\n",
       "the last num         53.300\n",
       "dtype: float64"
      ]
     },
     "execution_count": 4,
     "metadata": {},
     "output_type": "execute_result"
    }
   ],
   "source": [
    "another_series = pd.Series(\n",
    "    data=input_data, \n",
    "    index=['n cheeses', \"spam\", 32, \"the number 36\", \"ohh a real float!\", 22.2, \"the last num\"]\n",
    ")\n",
    "another_series"
   ]
  },
  {
   "cell_type": "code",
   "execution_count": null,
   "metadata": {},
   "outputs": [],
   "source": []
  }
 ],
 "metadata": {
  "kernelspec": {
   "display_name": "Python 3 (ipykernel)",
   "language": "python",
   "name": "python3"
  },
  "language_info": {
   "codemirror_mode": {
    "name": "ipython",
    "version": 3
   },
   "file_extension": ".py",
   "mimetype": "text/x-python",
   "name": "python",
   "nbconvert_exporter": "python",
   "pygments_lexer": "ipython3",
   "version": "3.9.7"
  }
 },
 "nbformat": 4,
 "nbformat_minor": 2
}
