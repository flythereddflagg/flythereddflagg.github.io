{
 "cells": [
  {
   "cell_type": "code",
   "execution_count": 1,
   "metadata": {},
   "outputs": [],
   "source": [
    "import pandas as pd"
   ]
  },
  {
   "cell_type": "code",
   "execution_count": 2,
   "metadata": {},
   "outputs": [],
   "source": [
    "some_data = {\n",
    "    \"name\":[\"Jared\", \"Lisa\", \"Jan\", \"Peter\", \"Ben\"],\n",
    "    \"sex\":['M', 'F', 'F', 'M', 'M'],\n",
    "    \"age\":[23,32,45,12,67],\n",
    "    \"salary\":[20e3, 40e3, 65e3, 10e3, 100e3]   \n",
    "} # notice that all of the values must be iterables of the same length"
   ]
  },
  {
   "cell_type": "code",
   "execution_count": 3,
   "metadata": {},
   "outputs": [
    {
     "name": "stdout",
     "output_type": "stream",
     "text": [
      "    name sex  age    salary\n",
      "0  Jared   M   23   20000.0\n",
      "1   Lisa   F   32   40000.0\n",
      "2    Jan   F   45   65000.0\n",
      "3  Peter   M   12   10000.0\n",
      "4    Ben   M   67  100000.0\n"
     ]
    }
   ],
   "source": [
    "df = pd.DataFrame(some_data)\n",
    "print(df)# if you are not using Jupyter use print instead"
   ]
  },
  {
   "cell_type": "code",
   "execution_count": 4,
   "metadata": {},
   "outputs": [
    {
     "name": "stdout",
     "output_type": "stream",
     "text": [
      "    name sex  age    salary\n",
      "0  Jared   M   23   20000.0\n",
      "3  Peter   M   12   10000.0\n",
      "4    Ben   M   67  100000.0\n",
      "   name sex  age    salary\n",
      "1  Lisa   F   32   40000.0\n",
      "2   Jan   F   45   65000.0\n",
      "4   Ben   M   67  100000.0\n"
     ]
    }
   ],
   "source": [
    "# if you are not using Jupyter use print instead of display\n",
    "print(df[df['sex'] == 'M']) \n",
    "print(df[df['salary'] > 30e3])"
   ]
  },
  {
   "cell_type": "code",
   "execution_count": 5,
   "metadata": {},
   "outputs": [
    {
     "data": {
      "text/plain": [
       "35.8"
      ]
     },
     "execution_count": 5,
     "metadata": {},
     "output_type": "execute_result"
    }
   ],
   "source": [
    "# keys are column names and values are Series objects\n",
    "df['age'].mean()"
   ]
  },
  {
   "cell_type": "code",
   "execution_count": 6,
   "metadata": {},
   "outputs": [],
   "source": [
    "df.to_csv(\"some_data.csv\")"
   ]
  },
  {
   "cell_type": "code",
   "execution_count": null,
   "metadata": {},
   "outputs": [],
   "source": []
  }
 ],
 "metadata": {
  "kernelspec": {
   "display_name": "Python 3",
   "language": "python",
   "name": "python3"
  },
  "language_info": {
   "codemirror_mode": {
    "name": "ipython",
    "version": 3
   },
   "file_extension": ".py",
   "mimetype": "text/x-python",
   "name": "python",
   "nbconvert_exporter": "python",
   "pygments_lexer": "ipython3",
   "version": "3.8.10"
  }
 },
 "nbformat": 4,
 "nbformat_minor": 2
}
