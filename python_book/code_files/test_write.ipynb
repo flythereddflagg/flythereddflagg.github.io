{
 "cells": [
  {
   "cell_type": "code",
   "execution_count": 11,
   "metadata": {},
   "outputs": [
    {
     "name": "stdout",
     "output_type": "stream",
     "text": [
      "I have a jar of Fantastic brand pickles. \n",
      "In the jar, there are 7 pickles with an average\n",
      "weight of 2.34758475 ounces.\n",
      "\n",
      "I have a jar of Fantastic brand pickles. \n",
      "In the jar, there are 7 pickles with an average\n",
      "weight of 2.348 ounces.\n",
      "\n",
      "Printing the numbers without any formatting.\n",
      "7583\n",
      "-123\n",
      "23.0\n",
      "4838495.23221\n",
      "483.234\n",
      "1293.0\n",
      "\n",
      "Notice how this can be hard to read.\n",
      "Let's try printing them and lining up the decimals.\n",
      "   7583\n",
      "   -123\n",
      "     23.000\n",
      "4838495.232\n",
      "    483.234\n",
      "   1293.000\n"
     ]
    }
   ],
   "source": [
    "# adv_format.py\n",
    "\n",
    "# let's make some variables\n",
    "pickle_brand = \"Fantastic\"\n",
    "number_of_pickles = 7\n",
    "average_pickle_weight = 2.34758475 # oz\n",
    "\n",
    "# now lets print those variables in a string\n",
    "pickle_info = \"\"\"I have a jar of {} brand pickles. \n",
    "In the jar, there are {} pickles with an average\n",
    "weight of {} ounces.\\n\"\"\".format(\n",
    "    pickle_brand, \n",
    "    number_of_pickles, \n",
    "    average_pickle_weight\n",
    ") \n",
    "\n",
    "print(pickle_info)\n",
    "\n",
    "# lets redefine pickle_info in a better way\n",
    "pickle_info = f\"\"\"I have a jar of {pickle_brand} brand pickles. \n",
    "In the jar, there are {number_of_pickles} pickles with an average\n",
    "weight of {average_pickle_weight:.3f} ounces.\\n\"\"\"\n",
    "\n",
    "print(pickle_info)\n",
    "\n",
    "# lets take a bunch of numbers below\n",
    "random_number_1 =    7583        # integer\n",
    "random_number_2 =    -123        # negative integer\n",
    "random_number_3 =      23.0      # float number\n",
    "random_number_4 = 4838495.23221  # bigger float number\n",
    "random_number_5 =     483.234    # medium float number\n",
    "random_number_6 =    1293.0      # round float number\n",
    "\n",
    "# now let's print them\n",
    "print(\"Printing the numbers without any formatting.\")\n",
    "print(f\"{random_number_1}\")\n",
    "print(f\"{random_number_2}\")\n",
    "print(f\"{random_number_3}\")\n",
    "print(f\"{random_number_4}\")\n",
    "print(f\"{random_number_5}\")\n",
    "print(f\"{random_number_6}\")\n",
    "print(\"\")\n",
    "\n",
    "print(\"Notice how this can be hard to read.\")\n",
    "print(\"Let's try printing them and lining up the decimals.\")\n",
    "print(f\"{random_number_1:7d}\")    \n",
    "print(f\"{random_number_2:7d}\")    \n",
    "print(f\"{random_number_3:11.3f}\") \n",
    "print(f\"{random_number_4:11.3f}\")\n",
    "print(f\"{random_number_5:11.3f}\")\n",
    "print(f\"{random_number_6:11.3f}\")\n"
   ]
  },
  {
   "cell_type": "code",
   "execution_count": null,
   "metadata": {},
   "outputs": [],
   "source": []
  }
 ],
 "metadata": {
  "kernelspec": {
   "display_name": "Python 3",
   "language": "python",
   "name": "python3"
  },
  "language_info": {
   "codemirror_mode": {
    "name": "ipython",
    "version": 3
   },
   "file_extension": ".py",
   "mimetype": "text/x-python",
   "name": "python",
   "nbconvert_exporter": "python",
   "pygments_lexer": "ipython3",
   "version": "3.8.3"
  }
 },
 "nbformat": 4,
 "nbformat_minor": 2
}
