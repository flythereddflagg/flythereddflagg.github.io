{
 "cells": [
  {
   "cell_type": "code",
   "execution_count": 1,
   "metadata": {},
   "outputs": [],
   "source": [
    "import numpy as np"
   ]
  },
  {
   "cell_type": "code",
   "execution_count": 20,
   "metadata": {},
   "outputs": [
    {
     "data": {
      "text/plain": [
       "array([[  21. ,   42. ,   32. ],\n",
       "       [   1. , -129.2,  234. ],\n",
       "       [   3. ,    6. ,    9. ]])"
      ]
     },
     "metadata": {},
     "output_type": "display_data"
    },
    {
     "data": {
      "text/plain": [
       "array([[0., 0., 0.],\n",
       "       [0., 0., 0.],\n",
       "       [0., 0., 0.]])"
      ]
     },
     "metadata": {},
     "output_type": "display_data"
    }
   ],
   "source": [
    "# we will start with two arrays\n",
    "a = np.array([\n",
    "    [21, 42, 32],\n",
    "    [1, -129.2, 234.0],\n",
    "    [3, 6, 9]\n",
    "])\n",
    "# make an array of zeros\n",
    "b = np.zeros((3,3)) \n",
    "display(a)\n",
    "display(b)\n"
   ]
  },
  {
   "cell_type": "code",
   "execution_count": 21,
   "metadata": {},
   "outputs": [
    {
     "data": {
      "text/plain": [
       "dtype('float64')"
      ]
     },
     "metadata": {},
     "output_type": "display_data"
    },
    {
     "data": {
      "text/plain": [
       "dtype('float64')"
      ]
     },
     "metadata": {},
     "output_type": "display_data"
    }
   ],
   "source": [
    "# notice that arrays are forced\n",
    "# to be all the same data type\n",
    "display(a.dtype, b.dtype)"
   ]
  },
  {
   "cell_type": "code",
   "execution_count": 35,
   "metadata": {},
   "outputs": [
    {
     "data": {
      "text/plain": [
       "array([[1., 1., 1.],\n",
       "       [1., 1., 1.],\n",
       "       [1., 1., 1.]])"
      ]
     },
     "metadata": {},
     "output_type": "display_data"
    },
    {
     "data": {
      "text/plain": [
       "array([[ 0.21 ,  0.42 ,  0.32 ],\n",
       "       [ 0.01 , -1.292,  2.34 ],\n",
       "       [ 0.03 ,  0.06 ,  0.09 ]])"
      ]
     },
     "metadata": {},
     "output_type": "display_data"
    },
    {
     "data": {
      "text/plain": [
       "array([[  22. ,   43. ,   33. ],\n",
       "       [   2. , -128.2,  235. ],\n",
       "       [   4. ,    7. ,   10. ]])"
      ]
     },
     "metadata": {},
     "output_type": "display_data"
    }
   ],
   "source": [
    "# we can do elementwise math\n",
    "display(b + 1)\n",
    "display(a / 100)\n",
    "display((b + 1) + a)"
   ]
  },
  {
   "cell_type": "code",
   "execution_count": 34,
   "metadata": {},
   "outputs": [
    {
     "data": {
      "text/plain": [
       "-12201.60000000001"
      ]
     },
     "metadata": {},
     "output_type": "display_data"
    },
    {
     "data": {
      "text/plain": [
       "array([[ 0.21036585,  0.0152439 , -1.14430894],\n",
       "       [-0.05679583, -0.00762195,  0.40011146],\n",
       "       [-0.03225806,  0.        ,  0.22580645]])"
      ]
     },
     "metadata": {},
     "output_type": "display_data"
    },
    {
     "data": {
      "text/plain": [
       "array([[ 1.0000000e+00,  0.0000000e+00, -8.8817842e-16],\n",
       "       [ 8.8817842e-16,  1.0000000e+00,  0.0000000e+00],\n",
       "       [ 0.0000000e+00, -6.9388939e-18,  1.0000000e+00]])"
      ]
     },
     "metadata": {},
     "output_type": "display_data"
    },
    {
     "data": {
      "text/plain": [
       "array([-0.91869919,  0.33569368,  0.19354839])"
      ]
     },
     "metadata": {},
     "output_type": "display_data"
    }
   ],
   "source": [
    "# we can do linear algebra calculations like determinants\n",
    "# inverse matrices or solvers\n",
    "display(np.linalg.det(a))\n",
    "display(np.linalg.inv(a))\n",
    "display(a @ np.linalg.inv(a)) # to prove it is the inverse\n",
    "\n",
    "# get the first column of b+1\n",
    "display(np.linalg.solve(a, (b + 1)[:,1])) "
   ]
  },
  {
   "cell_type": "code",
   "execution_count": null,
   "metadata": {},
   "outputs": [],
   "source": []
  },
  {
   "cell_type": "code",
   "execution_count": null,
   "metadata": {},
   "outputs": [],
   "source": []
  }
 ],
 "metadata": {
  "kernelspec": {
   "display_name": "Python 3 (ipykernel)",
   "language": "python",
   "name": "python3"
  },
  "language_info": {
   "codemirror_mode": {
    "name": "ipython",
    "version": 3
   },
   "file_extension": ".py",
   "mimetype": "text/x-python",
   "name": "python",
   "nbconvert_exporter": "python",
   "pygments_lexer": "ipython3",
   "version": "3.9.7"
  }
 },
 "nbformat": 4,
 "nbformat_minor": 2
}
